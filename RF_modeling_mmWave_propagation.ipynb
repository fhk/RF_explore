{
 "cells": [
  {
   "cell_type": "markdown",
   "metadata": {},
   "source": [
    "# Exploration of wireless network RF calculations"
   ]
  },
  {
   "cell_type": "markdown",
   "metadata": {},
   "source": [
    "Free space loss equation: http://www.tapr.org/ve3jf.dcc97.html\n",
    "Assuming isotropic receiving antenna"
   ]
  },
  {
   "cell_type": "markdown",
   "metadata": {},
   "source": [
    "$$\n",
    "L_p = 32.4 + 20 log \\,f + 20 log\\,d\\,dB\\\\\n",
    "f\\,in\\,MHz,\\,d\\,in\\,km\n",
    "$$\n",
    "\n",
    "\n"
   ]
  },
  {
   "cell_type": "markdown",
   "metadata": {},
   "source": [
    "Now lets combine this with the antenna gains and cable losses"
   ]
  },
  {
   "cell_type": "markdown",
   "metadata": {},
   "source": [
    "\\begin{align}\n",
    "P_r & = P_t - L_p + G_t + G_r - L_t - L_r\\\\\n",
    "\\\\\n",
    "where &\\\\\n",
    "\\\\\n",
    "P_t & = transmitter\\,power\\,output\\,(dBm\\,or\\,dBW,\\,same\\,units\\,as\\,P_r)\\\\\n",
    "...&\\\\\n",
    "\\end{align}\n",
    "\n",
    "\n",
    "Not taking into account refraction, defraction and reflection we can compute the loss. From [here](https://www.signalboosters.com/blog/what-is-decibel-db-gain-and-how-does-it-relate-to-cell-phone-reception) we can see that mobile phones operate in ideal conditions at - 50 dB and stop operating at - 100 dB. This post also shows you how to check your network readings from you iPhone/Android."
   ]
  },
  {
   "cell_type": "code",
   "execution_count": 2,
   "metadata": {},
   "outputs": [],
   "source": [
    "import math"
   ]
  },
  {
   "cell_type": "code",
   "execution_count": 3,
   "metadata": {},
   "outputs": [
    {
     "data": {
      "text/plain": [
       "-54.62842188132896"
      ]
     },
     "execution_count": 3,
     "metadata": {},
     "output_type": "execute_result"
    }
   ],
   "source": [
    "L_p = 32.4 + (20 * math.log10(915)) + (20 * math.log10(10))\n",
    "P_t = 24\n",
    "G_t = 25\n",
    "G_r = 12\n",
    "L_t = 2\n",
    "L_r = 2\n",
    "P_r = P_t - L_p + G_t + G_r - L_t - L_r\n",
    "P_r"
   ]
  },
  {
   "cell_type": "markdown",
   "metadata": {},
   "source": [
    "### Now lets explore the loss as we increase the frequency upto millimeter wave (mmWave)"
   ]
  },
  {
   "cell_type": "code",
   "execution_count": 4,
   "metadata": {},
   "outputs": [],
   "source": [
    "def calc_loss(freq, distance, tr_pwr=24, tr_gain=10, rec_gain=10, tr_loss=2, rec_loss=2):\n",
    "    \"\"\" Calculate the path loss for a frequency and distance\n",
    "    \n",
    "    Keyword arguments:\n",
    "    freq -- the frequnecy in MHz\n",
    "    distance -- the distance in km\n",
    "    tr_pwr -- the transmitter power in dB\n",
    "    tr_gain -- the transmitter gain in dB\n",
    "    rec_gain -- the receiver gain in dB\n",
    "    tr_loss - the transmitter loss in dB\n",
    "    rec_loss - the receiver loss in dB\n",
    "    \"\"\"\n",
    "    free_space_loss = 32.4 + (20 * math.log10(freq)) + (20 * math.log10(distance))\n",
    "    path_loss = tr_pwr - free_space_loss + tr_gain  + rec_gain - tr_loss - rec_loss\n",
    "    return path_loss"
   ]
  },
  {
   "cell_type": "code",
   "execution_count": 5,
   "metadata": {},
   "outputs": [],
   "source": [
    "import numpy as np"
   ]
  },
  {
   "cell_type": "code",
   "execution_count": 6,
   "metadata": {},
   "outputs": [],
   "source": [
    "losses = []\n",
    "freq = np.arange(500, 10000, step=500)\n",
    "dist = np.arange(0.00001, 20, step=0.2)\n",
    "for x in freq:\n",
    "    row = []\n",
    "    for y in dist:\n",
    "        row.append(calc_loss(x, y))\n",
    "    losses.append(row)\n",
    "        "
   ]
  },
  {
   "cell_type": "code",
   "execution_count": 7,
   "metadata": {},
   "outputs": [],
   "source": [
    "l_a = np.array(losses)"
   ]
  },
  {
   "cell_type": "code",
   "execution_count": 8,
   "metadata": {},
   "outputs": [
    {
     "name": "stdout",
     "output_type": "stream",
     "text": [
      "-62.73381721669774\n",
      "-68.75441712997736\n",
      "-72.27624231109098\n",
      "-74.77501704325698\n",
      "-76.7132173034181\n",
      "-78.29684222437061\n",
      "-79.63577801698287\n",
      "-80.79561695653662\n",
      "-81.8186674054842\n",
      "-82.73381721669773\n",
      "-83.56167091986222\n",
      "-84.31744213765019\n",
      "-85.01268426283447\n",
      "-85.6563779302625\n",
      "-86.25564239781136\n",
      "-86.81621686981622\n",
      "-87.34279564426325\n",
      "-87.83926731876383\n",
      "-88.3088892357543\n"
     ]
    }
   ],
   "source": [
    "for i in range(len(l_a)):\n",
    "    print(l_a[i].mean())"
   ]
  },
  {
   "cell_type": "code",
   "execution_count": 17,
   "metadata": {},
   "outputs": [
    {
     "data": {
      "image/png": "[encoded data removed]",
      "text/plain": [
       "<Figure size 432x288 with 1 Axes>"
      ]
     },
     "metadata": {},
     "output_type": "display_data"
    }
   ],
   "source": [
    "% matplotlib inline\n",
    "import matplotlib.pyplot as plt\n",
    "\n",
    "top = plt.plot(dist, l_a[0], 'r', label='%i MHz'% freq[0])\n",
    "mid = plt.plot(dist, l_a[4], 'b', label='%i MHz'% freq[4])\n",
    "bottom = plt.plot(dist, l_a[-1], 'g', label='%i MHz'% freq[-1])\n",
    "plt.legend(bbox_to_anchor=(1.05, 1), loc=2, borderaxespad=0.)\n",
    "plt.title(\"Propagation of RF frequnecy for distance (km)\")\n",
    "plt.ylabel('dB loss')\n",
    "plt.xlabel('km')\n",
    "plt.show()"
   ]
  },
  {
   "cell_type": "markdown",
   "metadata": {},
   "source": [
    "Now we want to check the distance at which each frequency hits -50 and -75 dB loss"
   ]
  },
  {
   "cell_type": "code",
   "execution_count": 59,
   "metadata": {},
   "outputs": [],
   "source": [
    "def calc_loss_at_distance(loss, distance):\n",
    "\n",
    "    hits = []\n",
    "\n",
    "    for c in l_a:\n",
    "        for i, l in enumerate(c):\n",
    "            if l <= loss:\n",
    "\n",
    "                hits.append(distance[i])\n",
    "                break\n",
    "    return hits\n",
    "\n",
    "hits_fifty = calc_loss_at_distance(-50, dist)\n",
    "hits_seventy = calc_loss_at_distance(-70, dist)\n",
    "        \n",
    "        "
   ]
  },
  {
   "cell_type": "code",
   "execution_count": 64,
   "metadata": {},
   "outputs": [
    {
     "data": {
      "image/png": "[encoded data removed]",
      "text/plain": [
       "<Figure size 432x288 with 1 Axes>"
      ]
     },
     "metadata": {},
     "output_type": "display_data"
    }
   ],
   "source": [
    "neg_fifty = plt.plot(freq, hits_fifty, 'r', label='distance to hit loss -50 dB')\n",
    "neg_seventy = plt.plot(freq, hits_seventy, 'b', label='distance to hit loss -70 dB')\n",
    "plt.legend(bbox_to_anchor=(1.05, 1), loc=2, borderaxespad=0.)\n",
    "plt.title(\"dB loss over distance as frequency increases with 400m baseline\")\n",
    "plt.ylabel('distance (km)')\n",
    "plt.xlabel('MHz')\n",
    "plt.axhline(0.4, linestyle='--', color='k') # horizontal lines\n",
    "plt.show()"
   ]
  }
 ],
 "metadata": {
  "kernelspec": {
   "display_name": "Python 3",
   "language": "python",
   "name": "python3"
  },
  "language_info": {
   "codemirror_mode": {
    "name": "ipython",
    "version": 3
   },
   "file_extension": ".py",
   "mimetype": "text/x-python",
   "name": "python",
   "nbconvert_exporter": "python",
   "pygments_lexer": "ipython3",
   "version": "3.6.5"
  }
 },
 "nbformat": 4,
 "nbformat_minor": 2
}
